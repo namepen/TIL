{
 "cells": [
  {
   "cell_type": "markdown",
   "metadata": {},
   "source": [
    "# 엔트로피(entropy)"
   ]
  },
  {
   "cell_type": "code",
   "execution_count": 1,
   "metadata": {},
   "outputs": [],
   "source": [
    "import numpy as np\n",
    "import matplotlib.pyplot as plt\n",
    "import seaborn as sns\n",
    "import math\n",
    "import scipy\n",
    "\n",
    "np.random.seed(102)"
   ]
  },
  {
   "cell_type": "markdown",
   "metadata": {},
   "source": [
    "샘플을 생성합니다. 평균이 20인 포아송 분포를 따르는 샘플 200개를 생성합니다"
   ]
  },
  {
   "cell_type": "code",
   "execution_count": 2,
   "metadata": {},
   "outputs": [
    {
     "name": "stdout",
     "output_type": "stream",
     "text": [
      "[21 17 21 15 18 20 15 25 20 14 21 21 16 21 20 20 25 20 18 21]\n"
     ]
    },
    {
     "data": {
      "image/png": "[encoded data removed]",
      "text/plain": [
       "<Figure size 432x288 with 1 Axes>"
      ]
     },
     "metadata": {
      "needs_background": "light"
     },
     "output_type": "display_data"
    }
   ],
   "source": [
    "sample = np.random.poisson(20, 200)\n",
    "print(sample[:20])\n",
    "\n",
    "sns.histplot(sample, kde=True)\n",
    "plt.show()"
   ]
  },
  {
   "cell_type": "markdown",
   "metadata": {},
   "source": [
    "위 샘플이 나타내는 엔트로피를 구합니다.\n",
    "1. 숫자별 확률을 계산합니다.\n",
    "2. 엔트로피를 계산합니다."
   ]
  },
  {
   "cell_type": "markdown",
   "metadata": {},
   "source": [
    "숫자별 확률을 계산합니다."
   ]
  },
  {
   "cell_type": "code",
   "execution_count": 3,
   "metadata": {},
   "outputs": [],
   "source": [
    "from collections import Counter"
   ]
  },
  {
   "cell_type": "code",
   "execution_count": 4,
   "metadata": {},
   "outputs": [
    {
     "name": "stdout",
     "output_type": "stream",
     "text": [
      "{10: 0.005, 11: 0.015, 12: 0.025, 13: 0.015, 14: 0.05, 15: 0.03, 16: 0.05, 17: 0.07, 18: 0.105, 19: 0.09, 20: 0.07, 21: 0.105, 22: 0.08, 23: 0.055, 24: 0.03, 25: 0.085, 26: 0.04, 27: 0.055, 28: 0.01, 29: 0.005, 31: 0.005, 32: 0.005}\n"
     ]
    }
   ],
   "source": [
    "prop = Counter(sample)\n",
    "prop = {i[0]:i[1]/200 for i in prop.items()}\n",
    "prop = dict(sorted(prop.items()))\n",
    "print(prop)"
   ]
  },
  {
   "cell_type": "markdown",
   "metadata": {},
   "source": [
    "엔트로피를 계산합니다.\n",
    "\n",
    "H =  sum(- p * log(p))"
   ]
  },
  {
   "cell_type": "code",
   "execution_count": 5,
   "metadata": {},
   "outputs": [],
   "source": [
    "p = list(prop.values())"
   ]
  },
  {
   "cell_type": "code",
   "execution_count": 6,
   "metadata": {},
   "outputs": [
    {
     "name": "stdout",
     "output_type": "stream",
     "text": [
      "2.801899930840769\n"
     ]
    }
   ],
   "source": [
    "# Method 1\n",
    "h = sum(map(lambda x: -x*math.log(x) if x!=0 else 0, p))\n",
    "\n",
    "# Method 2\n",
    "'''h = 0.0\n",
    "for i in prop.values():\n",
    "    try:\n",
    "        h += -i*np.log(i)#math.log(i)\n",
    "    except:\n",
    "        pass'''\n",
    "\n",
    "print(h)"
   ]
  },
  {
   "cell_type": "markdown",
   "metadata": {},
   "source": [
    "`scipy` 모듈의 entropy 계산 함수와 동일한 결과가 나옵니다. "
   ]
  },
  {
   "cell_type": "code",
   "execution_count": 7,
   "metadata": {},
   "outputs": [],
   "source": [
    "from scipy import stats"
   ]
  },
  {
   "cell_type": "code",
   "execution_count": 8,
   "metadata": {},
   "outputs": [
    {
     "data": {
      "text/plain": [
       "2.801899930840769"
      ]
     },
     "execution_count": 8,
     "metadata": {},
     "output_type": "execute_result"
    }
   ],
   "source": [
    "# scipy.stats.entropy에는 확률 값이 아닌 count 값을 넣어줘야합니다.\n",
    "prop = Counter(sample) \n",
    "stats.entropy(list(prop.values()))"
   ]
  },
  {
   "cell_type": "markdown",
   "metadata": {},
   "source": [
    "### 다른 분포의 엔트로피"
   ]
  },
  {
   "cell_type": "markdown",
   "metadata": {},
   "source": [
    "1. uniform 분포 : 확률이 비슷한 경우에는 엔트로피가 높게 계산됩니다."
   ]
  },
  {
   "cell_type": "code",
   "execution_count": 9,
   "metadata": {},
   "outputs": [
    {
     "name": "stdout",
     "output_type": "stream",
     "text": [
      "[27  2 22 30 33  7 11 31  2 10 25 33 14 27  4  4 12 11 28 20]\n"
     ]
    },
    {
     "data": {
      "image/png": "[encoded data removed]",
      "text/plain": [
       "<Figure size 432x288 with 1 Axes>"
      ]
     },
     "metadata": {
      "needs_background": "light"
     },
     "output_type": "display_data"
    }
   ],
   "source": [
    "sample = np.random.randint(0, 35, 200)\n",
    "print(sample[:20])\n",
    "\n",
    "sns.histplot(sample, kde=True)\n",
    "plt.show()"
   ]
  },
  {
   "cell_type": "code",
   "execution_count": 10,
   "metadata": {},
   "outputs": [
    {
     "data": {
      "text/plain": [
       "3.483499247564642"
      ]
     },
     "execution_count": 10,
     "metadata": {},
     "output_type": "execute_result"
    }
   ],
   "source": [
    "prop = Counter(sample) \n",
    "stats.entropy(list(prop.values()))"
   ]
  },
  {
   "cell_type": "markdown",
   "metadata": {},
   "source": [
    "2. skew normal 분포"
   ]
  },
  {
   "cell_type": "code",
   "execution_count": 11,
   "metadata": {},
   "outputs": [],
   "source": [
    "from scipy import stats"
   ]
  },
  {
   "cell_type": "code",
   "execution_count": 15,
   "metadata": {},
   "outputs": [
    {
     "data": {
      "image/png": "[encoded data removed]",
      "text/plain": [
       "<Figure size 432x288 with 1 Axes>"
      ]
     },
     "metadata": {
      "needs_background": "light"
     },
     "output_type": "display_data"
    }
   ],
   "source": [
    "sample = stats.skewnorm.rvs(10, size=200)\n",
    "sample = 35* ((abs(min(sample))+sample) / max(sample)) # scaling\n",
    "sample = np.array(sample, dtype='int')\n",
    "\n",
    "sns.histplot(sample, kde=True)\n",
    "plt.show()"
   ]
  },
  {
   "cell_type": "code",
   "execution_count": 16,
   "metadata": {},
   "outputs": [
    {
     "data": {
      "text/plain": [
       "3.105029195376043"
      ]
     },
     "execution_count": 16,
     "metadata": {},
     "output_type": "execute_result"
    }
   ],
   "source": [
    "prop = Counter(sample) \n",
    "stats.entropy(list(prop.values()))"
   ]
  },
  {
   "cell_type": "markdown",
   "metadata": {},
   "source": [
    "### 참고\n",
    "\n",
    "아래는 `scipy.stats.entropy`의 계산 함수입니다.\n",
    "\n",
    "* `entr: x의 값에 따라 다른 값을 반환하는 함수 [link](https://docs.scipy.org/doc/scipy/reference/generated/scipy.special.entr.html)"
   ]
  },
  {
   "cell_type": "code",
   "execution_count": 14,
   "metadata": {},
   "outputs": [],
   "source": [
    "def entropy(pk, qk=None, base=None, axis=0):\n",
    "    \"\"\"Calculate the entropy of a distribution for given probability values.\n",
    "    If only probabilities `pk` are given, the entropy is calculated as\n",
    "    ``S = -sum(pk * log(pk), axis=axis)``.\n",
    "    If `qk` is not None, then compute the Kullback-Leibler divergence\n",
    "    ``S = sum(pk * log(pk / qk), axis=axis)``.\n",
    "    This routine will normalize `pk` and `qk` if they don't sum to 1.\n",
    "    Parameters\n",
    "    ----------\n",
    "    pk : sequence\n",
    "        Defines the (discrete) distribution. ``pk[i]`` is the (possibly\n",
    "        unnormalized) probability of event ``i``.\n",
    "    qk : sequence, optional\n",
    "        Sequence against which the relative entropy is computed. Should be in\n",
    "        the same format as `pk`.\n",
    "    base : float, optional\n",
    "        The logarithmic base to use, defaults to ``e`` (natural logarithm).\n",
    "    axis: int, optional\n",
    "        The axis along which the entropy is calculated. Default is 0.\n",
    "    Returns\n",
    "    -------\n",
    "    S : float\n",
    "        The calculated entropy.\n",
    "    Examples\n",
    "    --------\n",
    "    >>> from scipy.stats import entropy\n",
    "    Bernoulli trial with different p.\n",
    "    The outcome of a fair coin is the most uncertain:\n",
    "    >>> entropy([1/2, 1/2], base=2)\n",
    "    1.0\n",
    "    The outcome of a biased coin is less uncertain:\n",
    "    >>> entropy([9/10, 1/10], base=2)\n",
    "    0.46899559358928117\n",
    "    Relative entropy:\n",
    "    >>> entropy([1/2, 1/2], qk=[9/10, 1/10])\n",
    "    0.5108256237659907\n",
    "    \"\"\"\n",
    "    pk = asarray(pk)\n",
    "    pk = 1.0*pk / np.sum(pk, axis=axis, keepdims=True)\n",
    "    if qk is None:\n",
    "        vec = entr(pk)\n",
    "    else:\n",
    "        qk = asarray(qk)\n",
    "        if qk.shape != pk.shape:\n",
    "            raise ValueError(\"qk and pk must have same shape.\")\n",
    "        qk = 1.0*qk / np.sum(qk, axis=axis, keepdims=True)\n",
    "        vec = rel_entr(pk, qk)\n",
    "    S = np.sum(vec, axis=axis)\n",
    "    if base is not None:\n",
    "        S /= log(base)\n",
    "    return S"
   ]
  }
 ],
 "metadata": {
  "kernelspec": {
   "display_name": "Python 3",
   "language": "python",
   "name": "python3"
  },
  "language_info": {
   "codemirror_mode": {
    "name": "ipython",
    "version": 3
   },
   "file_extension": ".py",
   "mimetype": "text/x-python",
   "name": "python",
   "nbconvert_exporter": "python",
   "pygments_lexer": "ipython3",
   "version": "3.8.5"
  }
 },
 "nbformat": 4,
 "nbformat_minor": 4
}
