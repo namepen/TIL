{
 "cells": [
  {
   "cell_type": "markdown",
   "metadata": {},
   "source": [
    "# Python : `str.split` 함수"
   ]
  },
  {
   "cell_type": "markdown",
   "metadata": {},
   "source": [
    "`split` 은 문자열을 구분하는 함수입니다. 문자열 뒤에 `split` 을 붙이면 내장 알고리즘에 의해 공백을 기준으로 문자열이 분할됩니다.\n",
    "\n",
    "* 일정한 구분자가 존재한다면, 해당 구분자를 사용해서 자동으로 분리합니다.\n",
    "* 문자를 분리하는 작업을 수행한다면, 문장의 처음이나 마지막에 공백이 무시됩니다.\n",
    "* 공백의 숫자가 달라도 문자만 분리됩니다.\n",
    "\n",
    "python str.split 문서 : [link](https://docs.python.org/3/library/stdtypes.html#str.split)"
   ]
  },
  {
   "cell_type": "code",
   "execution_count": 1,
   "metadata": {},
   "outputs": [],
   "source": [
    "sample = 'hello python sample sentences'\n",
    "sample2 = 'hello python sample sentences '  # 마지막에 공백이 포함된 문장\n",
    "sample3 = '  hello  python  sample sentences  ' # 공백이 두칸과 한칸이 모두 존재\n",
    "sample4= '  hello  python , sample/ sentences ' # 공백과 다른 구분자가 존재\n",
    "sample5= 'hello,python,sample,sentences' # 공백과 다른 구분자가 존재"
   ]
  },
  {
   "cell_type": "code",
   "execution_count": 2,
   "metadata": {},
   "outputs": [
    {
     "name": "stdout",
     "output_type": "stream",
     "text": [
      "['hello', 'python', 'sample', 'sentences']\n"
     ]
    }
   ],
   "source": [
    "print(sample.split())"
   ]
  },
  {
   "cell_type": "code",
   "execution_count": 3,
   "metadata": {},
   "outputs": [
    {
     "name": "stdout",
     "output_type": "stream",
     "text": [
      "['hello', 'python', 'sample', 'sentences']\n"
     ]
    }
   ],
   "source": [
    "print(sample2.split())"
   ]
  },
  {
   "cell_type": "code",
   "execution_count": 4,
   "metadata": {},
   "outputs": [
    {
     "name": "stdout",
     "output_type": "stream",
     "text": [
      "['hello', 'python', 'sample', 'sentences']\n"
     ]
    }
   ],
   "source": [
    "print(sample3.split())"
   ]
  },
  {
   "cell_type": "code",
   "execution_count": 5,
   "metadata": {},
   "outputs": [
    {
     "name": "stdout",
     "output_type": "stream",
     "text": [
      "['hello', 'python', ',', 'sample/', 'sentences']\n"
     ]
    }
   ],
   "source": [
    "print(sample4.split())"
   ]
  },
  {
   "cell_type": "code",
   "execution_count": 6,
   "metadata": {},
   "outputs": [
    {
     "name": "stdout",
     "output_type": "stream",
     "text": [
      "['hello,python,sample,sentences']\n"
     ]
    }
   ],
   "source": [
    "print(sample5.split())"
   ]
  },
  {
   "cell_type": "markdown",
   "metadata": {},
   "source": [
    "`split` 안의 `sep` 파라미터로 원하는 구분자로 문장을 분리할 수 있습니다.\n",
    "\n",
    "* 문자열을 읽어가면서 구분자가 등장하면 분리합니다.\n",
    "* 만약 구분자가 문장의 마지막에 있다면, 맨 마지막은 \"\" 로 반환됩니다."
   ]
  },
  {
   "cell_type": "code",
   "execution_count": 7,
   "metadata": {},
   "outputs": [
    {
     "name": "stdout",
     "output_type": "stream",
     "text": [
      "['hello', 'python', 'sample', 'sentences']\n"
     ]
    }
   ],
   "source": [
    "print(sample.split(' ')) # 공백으로 문장분리"
   ]
  },
  {
   "cell_type": "code",
   "execution_count": 8,
   "metadata": {},
   "outputs": [
    {
     "name": "stdout",
     "output_type": "stream",
     "text": [
      "['hello', 'Pyrhon', 'sample/sentences', '']\n"
     ]
    }
   ],
   "source": [
    "# 문장에 끝에 공백이 존재\n",
    "sample2 = 'hello Pyrhon sample/sentences ' \n",
    "print(sample2.split(' '))"
   ]
  },
  {
   "cell_type": "code",
   "execution_count": 9,
   "metadata": {},
   "outputs": [
    {
     "name": "stdout",
     "output_type": "stream",
     "text": [
      "['', '', 'hello', '', 'Pyrhon', '', 'sample', 'sentences', '', '']\n"
     ]
    }
   ],
   "source": [
    "# 문장의 앞, 뒤에 공백이 두칸 존재\n",
    "sample3 = '  hello  Pyrhon  sample sentences  '\n",
    "print(sample3.split(' '))"
   ]
  },
  {
   "cell_type": "code",
   "execution_count": 10,
   "metadata": {},
   "outputs": [
    {
     "name": "stdout",
     "output_type": "stream",
     "text": [
      "['', 'hello', 'Pyrhon', 'sample', 'sentences', '', '']\n"
     ]
    }
   ],
   "source": [
    "# 문장의 앞, 뒤에 공백이 두칸 존재\n",
    "sample3 = ',hello,Pyrhon,sample,sentences,,'\n",
    "print(sample3.split(','))"
   ]
  },
  {
   "cell_type": "markdown",
   "metadata": {},
   "source": [
    "`maxsplit`으로 구분한 문장의 결과수를 제한할 수 있습니다.\n"
   ]
  },
  {
   "cell_type": "code",
   "execution_count": 11,
   "metadata": {},
   "outputs": [
    {
     "name": "stdout",
     "output_type": "stream",
     "text": [
      "['hello', 'python sample sentences']\n"
     ]
    }
   ],
   "source": [
    "print(sample.split(maxsplit=1))"
   ]
  },
  {
   "cell_type": "code",
   "execution_count": 12,
   "metadata": {},
   "outputs": [
    {
     "name": "stdout",
     "output_type": "stream",
     "text": [
      "['hello', 'python', 'sample sentences']\n"
     ]
    }
   ],
   "source": [
    "print(sample.split(maxsplit=2))"
   ]
  },
  {
   "cell_type": "code",
   "execution_count": 13,
   "metadata": {},
   "outputs": [
    {
     "name": "stdout",
     "output_type": "stream",
     "text": [
      "['hello', 'python', 'sample', 'sentences']\n"
     ]
    }
   ],
   "source": [
    "print(sample.split(maxsplit=-1))"
   ]
  },
  {
   "cell_type": "markdown",
   "metadata": {},
   "source": [
    "`re` 라이브러리를 이용하면 다수의 구분자로 문장을 분할할 수 있습니다.\n",
    "\n",
    "* | 를 기준으로 원하는 구분자를 나열합니다. 예를 들어 ','와 ';' 가 구분자라면, ',|;' 를 `pattern` 파라미터로 입력합니다."
   ]
  },
  {
   "cell_type": "code",
   "execution_count": 14,
   "metadata": {},
   "outputs": [],
   "source": [
    "import re"
   ]
  },
  {
   "cell_type": "code",
   "execution_count": 15,
   "metadata": {},
   "outputs": [],
   "source": [
    "sample = 'hello python, R and Go'"
   ]
  },
  {
   "cell_type": "code",
   "execution_count": 16,
   "metadata": {},
   "outputs": [
    {
     "data": {
      "text/plain": [
       "['hello', 'python', '', 'R', 'and', 'Go']"
      ]
     },
     "execution_count": 16,
     "metadata": {},
     "output_type": "execute_result"
    }
   ],
   "source": [
    "# 구분자로 ,과 공백을 사용\n",
    "re.split(pattern=',|\\s' , string=sample)"
   ]
  },
  {
   "cell_type": "code",
   "execution_count": 17,
   "metadata": {},
   "outputs": [
    {
     "data": {
      "text/plain": [
       "['hello', 'python', '', 'R', '', '', 'Go']"
      ]
     },
     "execution_count": 17,
     "metadata": {},
     "output_type": "execute_result"
    }
   ],
   "source": [
    "# 구분자로 ,과 공백, and을 사용\n",
    "re.split(pattern=',|\\s|and' , string=sample)"
   ]
  }
 ],
 "metadata": {
  "kernelspec": {
   "display_name": "Python 3",
   "language": "python",
   "name": "python3"
  },
  "language_info": {
   "codemirror_mode": {
    "name": "ipython",
    "version": 3
   },
   "file_extension": ".py",
   "mimetype": "text/x-python",
   "name": "python",
   "nbconvert_exporter": "python",
   "pygments_lexer": "ipython3",
   "version": "3.8.5"
  }
 },
 "nbformat": 4,
 "nbformat_minor": 4
}
